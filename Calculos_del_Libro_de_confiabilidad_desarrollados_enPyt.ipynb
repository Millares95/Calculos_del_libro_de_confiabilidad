{
 "cells": [
  {
   "cell_type": "markdown",
   "metadata": {},
   "source": [
    "   ## Analysis about Failure Mug "
   ]
  },
  {
   "cell_type": "markdown",
   "metadata": {},
   "source": []
  },
  {
   "cell_type": "code",
   "execution_count": 1,
   "metadata": {},
   "outputs": [],
   "source": [
    "from sympy import symbols ,integrate,exp\n",
    "import numpy as np\n",
    "from scipy.stats import kstest, ks_2samp,weibull_min,gamma,exponweib\n",
    "import statistics\n",
    "import scipy.stats as sps\n",
    "from scipy.stats import stats\n",
    "from scipy.optimize import fmin"
   ]
  },
  {
   "cell_type": "code",
   "execution_count": 2,
   "metadata": {},
   "outputs": [
    {
     "name": "stdout",
     "output_type": "stream",
     "text": [
      "Integrate_result = 1 - exp(-landa*t)\n",
      "FM= landa\n"
     ]
    }
   ],
   "source": [
    "#!Declare Variable \n",
    "landa,t=symbols('landa t')\n",
    "\n",
    "#! Integral function \n",
    "f =landa *(exp(-landa*t))\n",
    "\n",
    "#! Integrate respect to t\n",
    "limit_inf=0\n",
    "limit_sup=t\n",
    "Integrate_result = integrate(f, (t,limit_inf,limit_sup))\n",
    "print('Integrate_result =',Integrate_result)\n",
    "\n",
    "#Todo Failure Mug\n",
    "FM=(f/(1-(Integrate_result)))\n",
    "print('FM=',FM)"
   ]
  },
  {
   "cell_type": "markdown",
   "metadata": {},
   "source": [
    "**preguntarle sobre este resultado a yorlandy porque me da difernte que el libro**"
   ]
  },
  {
   "cell_type": "code",
   "execution_count": 5,
   "metadata": {},
   "outputs": [],
   "source": [
    "def K_S_test(data):\n",
    "    #Todo Data Analysis \n",
    "    # for this distribution is important data order \n",
    "    #TODO KM test for different distribution\n",
    "\n",
    "    #! Normal Distribution\n",
    "    result_KM_norm=kstest(data,'norm')\n",
    "    #? Parameters about normal distribution\n",
    "    mean = statistics.mean(data)\n",
    "    Standard_desviation= statistics.pstdev(data, mean)\n",
    "    print('pvalue_N=',result_KM_norm.pvalue),print('mean_N=',mean ,'Standard_desviation_N=',Standard_desviation)\n",
    "\n",
    "    # !Weibull Distribution\n",
    "    data_order=sorted(data,reverse=True)\n",
    "    #Theories weibull for test:\n",
    "    np.random.seed(123)\n",
    "    weibull_data = weibull_min.rvs(c=1, loc=1, scale=1, size=100)\n",
    "\n",
    "    result_KM_weibull=ks_2samp(data_order, weibull_data)\n",
    "    print('pvalue_Weibull=',result_KM_weibull.pvalue)\n",
    "\n",
    "    # #!Proof  Weibull\n",
    "    # def fitweibull(x):\n",
    "    #     def optfun(theta):\n",
    "    #         return -np.sum(np.log(exponweib.pdf(data,1,theta[0],scale=theta[1],loc=0)))\n",
    "    #     logx= np.log(x)\n",
    "    #     shape=1.2/np.std(logx)\n",
    "    #     scale=np.exp(np.mean(logx)+ (0.572/shape))\n",
    "    #     return fmin(optfun,[shape,scale],xtol=0.01 , ftol = 0.01,disp=0)\n",
    "    # print('fitweibull=',fitweibull(data))\n",
    "\n",
    "    #? Parameters about Weibull distribution\n",
    "    params = weibull_min.fit(data_order)\n",
    "    print ('c=',params[0],'loc=',params[1],'scale=',params[2])\n",
    "\n",
    "    # !Gamma Distribution\n",
    "    #Estimate the shape and scale parameters of the Gamma distribution using the maximum likelihood method\n",
    "    params_gamma=gamma.fit(data_order)\n",
    "\n",
    "    #KStest:\n",
    "    result_KM_gamma=kstest(data_order, gamma.cdf, args=params)\n",
    "    print('pvalue_Gamma=',result_KM_gamma.pvalue)\n",
    "    print(params_gamma)\n",
    "    # !Uniforme Distribution\n",
    "    min_limit=0\n",
    "    "
   ]
  },
  {
   "cell_type": "code",
   "execution_count": 4,
   "metadata": {},
   "outputs": [
    {
     "name": "stdout",
     "output_type": "stream",
     "text": [
      "pvalue_N= 8.822895960694537e-25\n",
      "mean_N= 0.95384 Standard_desviation_N= 0.12304270965806954\n",
      "pvalue_Weibull= 1.4299355749930434e-30\n",
      "c= 3.235518629989735 loc= 0.5924747773139949 scale= 0.403507247027572\n",
      "pvalue_Gamma= 2.8298083677562146e-33\n",
      "(151.95508829867117, -0.5636428910975617, 0.009984530124163723)\n"
     ]
    }
   ],
   "source": [
    "data=[1.0132, 0.9602, 0.8494, 0.9938, 0.9309, 0.9047, 0.8218, 0.8579, 0.8307, 0.9606, 0.9161, 0.6697, 0.9438, 0.7976, 0.818, 1.0665, 1.148, 0.8221, 0.9608, 0.8021, 0.8575, 0.9222, 0.8416, 1.143, 1.1397, 1.1172, 1.0491, 1.2209, 1.0193, 1.0017, 1.0853, 1.0351, 1.0084, 1.0985, 0.9032, 0.8767, 1.0032, 0.8174, 0.8248, 1.1209]\n",
    "K_S_test(data)"
   ]
  },
  {
   "cell_type": "markdown",
   "metadata": {},
   "source": [
    "Komogorov‐Smirnov test:"
   ]
  }
 ],
 "metadata": {
  "kernelspec": {
   "display_name": "Python 3",
   "language": "python",
   "name": "python3"
  },
  "language_info": {
   "codemirror_mode": {
    "name": "ipython",
    "version": 3
   },
   "file_extension": ".py",
   "mimetype": "text/x-python",
   "name": "python",
   "nbconvert_exporter": "python",
   "pygments_lexer": "ipython3",
   "version": "3.11.5"
  }
 },
 "nbformat": 4,
 "nbformat_minor": 2
}
